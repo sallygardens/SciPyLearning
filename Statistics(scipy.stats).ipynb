{
 "cells": [
  {
   "cell_type": "markdown",
   "id": "e95e1446",
   "metadata": {},
   "source": [
    "# Statistics(scipy.stats)\n",
    "\n",
    "**本部分是scipy的stats子模块的教程，该模块主要用于统计。**\n",
    "\n",
    "## Introduction\n",
    "\n",
    "在本教程中，我们将会讨论<kbd>scipy.stats</kbd>子库的很多功能。希望提供给读者使用这个库的一些知识。更多的细节可以参看[reference manual](https://docs.scipy.org/doc/scipy/reference/stats.html#statsrefmanual) .\n",
    "\n",
    "## Random variables\n",
    "\n",
    "该库把连续型随机变量（continuous random variables）和离散型随机变量（discrete random variables）分别封装在两个general distribution class中。这些class中有超过80个连续型随机变量(RVs)和10个离散型随机变量。除此之外，终端用户可以非常轻松地添加新的例程(routine)和分布(distribution)。\n",
    "\n",
    "所有的统计函数都包含在scipy的子包<kbd>scipy.stats</kbd>下，我们可以使用info(stats)来获取统计函数的完整列表。我们也可以在stats子包的docstring获得可用随机变量（random variables）的完整列表。\n",
    "\n",
    "我们接下来的讨论，大都聚焦在连续型随机变量(continuous RVs)上。基本下面所有的讨论都适用于离散变量（discrete variables），但是也会有一些差异，我们会在[ Specific points for discrete distributions](https://docs.scipy.org/doc/scipy/tutorial/stats.html#discrete-points-label)指出。\n",
    "\n",
    "在下面的代码样例中，我们想通过如下语句导入<kbd>scipy.stats</kbd>包"
   ]
  },
  {
   "cell_type": "code",
   "execution_count": 1,
   "id": "d52c8c5d",
   "metadata": {},
   "outputs": [],
   "source": [
    "from scipy import stats"
   ]
  },
  {
   "cell_type": "markdown",
   "id": "08be929f",
   "metadata": {},
   "source": [
    "在一些情况下，我们想通过如下方式导入individual object"
   ]
  },
  {
   "cell_type": "code",
   "execution_count": 2,
   "id": "efa6b015",
   "metadata": {},
   "outputs": [],
   "source": [
    "from scipy.stats import norm # 正态分布 Normal Distribution"
   ]
  },
  {
   "cell_type": "markdown",
   "id": "b7168ccc",
   "metadata": {},
   "source": [
    "## Getting help\n",
    "\n",
    "首先，所有的分布都有一个帮助函数，可以获得这些分布的基本信息，我们使用<kbd>print(stats.norm.__doc__).</kbd>打印相关的docstring。\n",
    "\n",
    "寻找相应的支持（support）,例如分布的上下界（upper and lower bound），调用："
   ]
  },
  {
   "cell_type": "code",
   "execution_count": 3,
   "id": "54a3deeb",
   "metadata": {},
   "outputs": [
    {
     "name": "stdout",
     "output_type": "stream",
     "text": [
      "bounds of distribution lower : -inf, upper: inf\n"
     ]
    }
   ],
   "source": [
    "print('bounds of distribution lower : %s, upper: %s'% norm.support())"
   ]
  },
  {
   "cell_type": "markdown",
   "id": "3338dc37",
   "metadata": {},
   "source": [
    "我们可以调用<kbd>dir(norm)</kbd>列出normal distribution的所有method和property，但是有一些method是private的，尽管它们没有使用私有方法的命名方式（它们的method name并不是以下划线（underscore）开头），例如<font color=\"red\">veccdf</font>只能用于内部的计算（当我们试图使用这些private method的时候会发出警告并且会在一些时候会被移除）\n",
    "\n",
    "为了获取主要方法，我们罗列frozen distribution的所有方法（我们将会在下文中解释什么叫frozen distribution）。"
   ]
  },
  {
   "cell_type": "code",
   "execution_count": 4,
   "id": "0fa4b503",
   "metadata": {},
   "outputs": [
    {
     "data": {
      "text/plain": [
       "['__class__',\n",
       " '__delattr__',\n",
       " '__dict__',\n",
       " '__dir__',\n",
       " '__doc__',\n",
       " '__eq__',\n",
       " '__format__',\n",
       " '__ge__',\n",
       " '__getattribute__',\n",
       " '__gt__',\n",
       " '__hash__',\n",
       " '__init__',\n",
       " '__init_subclass__',\n",
       " '__le__',\n",
       " '__lt__',\n",
       " '__module__',\n",
       " '__ne__',\n",
       " '__new__',\n",
       " '__reduce__',\n",
       " '__reduce_ex__',\n",
       " '__repr__',\n",
       " '__setattr__',\n",
       " '__sizeof__',\n",
       " '__str__',\n",
       " '__subclasshook__',\n",
       " '__weakref__',\n",
       " 'a',\n",
       " 'args',\n",
       " 'b',\n",
       " 'cdf',\n",
       " 'dist',\n",
       " 'entropy',\n",
       " 'expect',\n",
       " 'interval',\n",
       " 'isf',\n",
       " 'kwds',\n",
       " 'logcdf',\n",
       " 'logpdf',\n",
       " 'logpmf',\n",
       " 'logsf',\n",
       " 'mean',\n",
       " 'median',\n",
       " 'moment',\n",
       " 'pdf',\n",
       " 'pmf',\n",
       " 'ppf',\n",
       " 'random_state',\n",
       " 'rvs',\n",
       " 'sf',\n",
       " 'stats',\n",
       " 'std',\n",
       " 'support',\n",
       " 'var']"
      ]
     },
     "execution_count": 4,
     "metadata": {},
     "output_type": "execute_result"
    }
   ],
   "source": [
    "rv = norm()\n",
    "dir(rv)"
   ]
  },
  {
   "cell_type": "markdown",
   "id": "eb6534d2",
   "metadata": {},
   "source": [
    "我们可以通过**自省**（introspection）获取到可用distribution的列表。"
   ]
  },
  {
   "cell_type": "code",
   "execution_count": 5,
   "id": "c702d462",
   "metadata": {},
   "outputs": [
    {
     "name": "stdout",
     "output_type": "stream",
     "text": [
      "number of continuous distributions: 101\n",
      "number of discrete distributions:   16\n"
     ]
    }
   ],
   "source": [
    "# 连续型分布\n",
    "dist_continu = [d for d in dir(stats) if isinstance(getattr(stats,d),stats.rv_continuous)]\n",
    "\n",
    "# 离散型分布\n",
    "dist_discrete = [d for d in dir(stats) if isinstance(getattr(stats, d), stats.rv_discrete)]\n",
    "\n",
    "print('number of continuous distributions: %d' % len(dist_continu))\n",
    "\n",
    "print('number of discrete distributions:   %d' % len(dist_discrete))\n"
   ]
  },
  {
   "cell_type": "markdown",
   "id": "07cd6a34",
   "metadata": {},
   "source": [
    "## Common methods\n",
    "\n",
    "主要的连续型随机变量的public methods如下\n",
    "\n",
    "* rvs: Random Variates  随机变量 从distribution中抽取一些样本\n",
    "\n",
    "* pdf: Probability Density Function  概率密度函数\n",
    "\n",
    "* cdf: Cumulative Distribution Function 累计分布函数 就是普通的概率分布函数，是概率密度的积分\n",
    "\n",
    "* sf: Survival Function (1-CDF) 剩余函数\n",
    "\n",
    "* ppf: Percent Point Function (Inverse of CDF) 百分比函数，是CDF的倒数\n",
    "\n",
    "* isf: Inverse Survival Function (Inverse of SF)  sf函数的倒数\n",
    "\n",
    "* stats: Return mean, variance, (Fisher’s) skew, or (Fisher’s) kurtosis 返回均值，方差，偏移，峰度\n",
    "\n",
    "* moment: non-central moments of the distribution 分布的非中心矩\n",
    "\n",
    "用普通的随机变量作为例子："
   ]
  },
  {
   "cell_type": "code",
   "execution_count": 6,
   "id": "e2984fbc",
   "metadata": {},
   "outputs": [
    {
     "data": {
      "text/plain": [
       "0.5"
      ]
     },
     "execution_count": 6,
     "metadata": {},
     "output_type": "execute_result"
    }
   ],
   "source": [
    "norm.cdf(0) # 标准正态分布 F(X<0)=0.5"
   ]
  },
  {
   "cell_type": "markdown",
   "id": "1ad9594c",
   "metadata": {},
   "source": [
    "计算一些点的<font color=\"red\">cdf</font>,我们可以传入一个list或者是numpy的array。"
   ]
  },
  {
   "cell_type": "code",
   "execution_count": 7,
   "id": "5eae5d6f",
   "metadata": {},
   "outputs": [
    {
     "data": {
      "text/plain": [
       "array([0.15865525, 0.5       , 0.84134475])"
      ]
     },
     "execution_count": 7,
     "metadata": {},
     "output_type": "execute_result"
    }
   ],
   "source": [
    "norm.cdf([-1., 0, 1])\n",
    "\n",
    "import numpy as np\n",
    "\n",
    "norm.cdf(np.array([-1., 0, 1]))"
   ]
  },
  {
   "cell_type": "markdown",
   "id": "571c8b66",
   "metadata": {},
   "source": [
    "所以像是pdf，cdf等等这些基础的method是矢量化的。\n",
    "\n",
    "也支持其它常见而且非常实用的方法："
   ]
  },
  {
   "cell_type": "code",
   "execution_count": 8,
   "id": "6a669a63",
   "metadata": {},
   "outputs": [
    {
     "data": {
      "text/plain": [
       "(0.0, 1.0, 1.0)"
      ]
     },
     "execution_count": 8,
     "metadata": {},
     "output_type": "execute_result"
    }
   ],
   "source": [
    "norm.mean(),norm.std(),norm.var() # 计算标准正态分布的平均值、标准差、方差"
   ]
  },
  {
   "cell_type": "code",
   "execution_count": 9,
   "id": "4aa2f2f8",
   "metadata": {},
   "outputs": [
    {
     "data": {
      "text/plain": [
       "(array(0.), array(1.))"
      ]
     },
     "execution_count": 9,
     "metadata": {},
     "output_type": "execute_result"
    }
   ],
   "source": [
    "norm.stats(moments=\"mv\")"
   ]
  },
  {
   "cell_type": "markdown",
   "id": "410a318b",
   "metadata": {},
   "source": [
    "我们可以使用百分比函数<font color=\"red\">ppf</font>找到distribution的中位数，它是<font color=\"red\">cdf</font>的倒数："
   ]
  },
  {
   "cell_type": "code",
   "execution_count": 10,
   "id": "1f8b1248",
   "metadata": {},
   "outputs": [
    {
     "data": {
      "text/plain": [
       "0.0"
      ]
     },
     "execution_count": 10,
     "metadata": {},
     "output_type": "execute_result"
    }
   ],
   "source": [
    "norm.ppf(0.5)"
   ]
  },
  {
   "cell_type": "markdown",
   "id": "3270eefa",
   "metadata": {},
   "source": [
    "用<font color=\"red\">size</font>参数生成一个随机变量的序列（random variate sequence）。"
   ]
  },
  {
   "cell_type": "code",
   "execution_count": 11,
   "id": "f9fad79f",
   "metadata": {},
   "outputs": [
    {
     "data": {
      "text/plain": [
       "array([-1.08568762, -2.35421716, -0.15784481])"
      ]
     },
     "execution_count": 11,
     "metadata": {},
     "output_type": "execute_result"
    }
   ],
   "source": [
    "norm.rvs(size=3) # random generate"
   ]
  },
  {
   "cell_type": "markdown",
   "id": "3e99cbf0",
   "metadata": {},
   "source": [
    "不要认为<font color=\"red\">norm.rvs(5)</font>会生成5个随机变量。"
   ]
  },
  {
   "cell_type": "code",
   "execution_count": 12,
   "id": "5c7c8ba4",
   "metadata": {},
   "outputs": [
    {
     "data": {
      "text/plain": [
       "3.8057110561485086"
      ]
     },
     "execution_count": 12,
     "metadata": {},
     "output_type": "execute_result"
    }
   ],
   "source": [
    "norm.rvs(5) # random"
   ]
  },
  {
   "cell_type": "markdown",
   "id": "c3d12e34",
   "metadata": {},
   "source": [
    "在这里<font color=\"red\">5</font>前面是没有关键字的，因此这个5赋值给了该方法的第一个关键参数<font color=\"red\">loc</font>,这个参数是所有的continuous distribution参数列表中的第一个参数，关于这个参数的作用我们在下一节介绍。\n",
    "\n",
    "## Random Number generation\n",
    "\n",
    "<kbd>scipy,stats</kbd>生成随机数依赖于<font color=\"blue\">numpy.random</font>包。在下面这个例子中，重新运行代码将不会再现固定的随机数字流。为了让这一串随机数字每次运行都不发生改变，我们要特别的给random number generator上指定一个*seed*（这个seed相当于将随机数字生成公式赋一个值，之后每次都会通过特定的公式产生随机数，所以每次产生的随机数不会发生变化）。在Numpy中，一个generator是一个<font color=\"blue\">numpy.random.Generator</font>实例。这里我们用一个经典（canonical）的方法创建一个generator。"
   ]
  },
  {
   "cell_type": "code",
   "execution_count": 13,
   "id": "dab22f50",
   "metadata": {},
   "outputs": [],
   "source": [
    "from numpy.random import default_rng\n",
    "rng = default_rng()"
   ]
  },
  {
   "cell_type": "markdown",
   "id": "5607d39e",
   "metadata": {},
   "source": [
    "我们可以用如下方式设置一个seed。"
   ]
  },
  {
   "cell_type": "code",
   "execution_count": 14,
   "id": "a3889167",
   "metadata": {},
   "outputs": [],
   "source": [
    "rng = default_rng(301439351238479871608357552876690613766)"
   ]
  },
  {
   "cell_type": "markdown",
   "id": "9e174f68",
   "metadata": {},
   "source": [
    "Warning :\n",
    " \n",
    "不要使用上面的seed值或者是一些常见的value例如0。使用一个很小的seed集合去实例化一个更大的状态空间（state space）这样做就会有一些states无法到达。如果每个人都使用这个value,就会导致一些误差，一个很好的办法是使用<font color=\"blue\">numpy.random.SeedSequence</font>:"
   ]
  },
  {
   "cell_type": "code",
   "execution_count": 15,
   "id": "cc3fb748",
   "metadata": {},
   "outputs": [
    {
     "name": "stdout",
     "output_type": "stream",
     "text": [
      "8490405554613712755673933265135157534\n"
     ]
    }
   ],
   "source": [
    "from numpy.random import SeedSequence\n",
    "print(SeedSequence().entropy) # random"
   ]
  },
  {
   "cell_type": "markdown",
   "id": "6f7b72da",
   "metadata": {},
   "source": [
    "distribution中的*random_state*参数可以接收一个<font color=\"blue\">numpy.random.SeedSequence</font>类的实例或者是一个integer，这个integer是一个seed用于该类内部的<font color=\"red\">Generator</font>对象。"
   ]
  },
  {
   "cell_type": "code",
   "execution_count": 16,
   "id": "e69b51b5",
   "metadata": {},
   "outputs": [
    {
     "data": {
      "text/plain": [
       "array([ 0.9611924 ,  0.1264337 ,  0.7457116 ,  1.15220084, -0.24389797])"
      ]
     },
     "execution_count": 16,
     "metadata": {},
     "output_type": "execute_result"
    }
   ],
   "source": [
    "norm.rvs(size=5, random_state=rng)"
   ]
  },
  {
   "cell_type": "markdown",
   "id": "e5c9f293",
   "metadata": {},
   "source": [
    "更多信息参见[NumPy’s documentation](https://numpy.org/doc/stable/reference/random/index.html)"
   ]
  },
  {
   "cell_type": "markdown",
   "id": "a9b84b27",
   "metadata": {},
   "source": [
    "## Shifting and scaling\n",
    "\n",
    "所有的连续型的分布都使用<font color=\"red\">loc</font>和<font color=\"red\">scale</font>关键parameter来调整分布的location和scale。例如，对于standard normal distribution，location是mean ，scale是standard deviation。"
   ]
  },
  {
   "cell_type": "code",
   "execution_count": 17,
   "id": "8e93a5a4",
   "metadata": {},
   "outputs": [
    {
     "data": {
      "text/plain": [
       "(array(3.), array(16.))"
      ]
     },
     "execution_count": 17,
     "metadata": {},
     "output_type": "execute_result"
    }
   ],
   "source": [
    "norm.stats(loc = 3,scale = 4,moments='mv')"
   ]
  },
  {
   "cell_type": "markdown",
   "id": "e75cddf3",
   "metadata": {},
   "source": [
    "在多数情况下，随机变量<font color=\"red\">X</font>的standardized distribution是通过<font color=\"red\">(X-loc)/scale</font>得到的。默认情况下<font color=\"red\">loc=0</font>，<font color=\"red\">scale=1</font>\n",
    "\n",
    "善用<font color=\"red\">loc</font>和<font color=\"red\">scale</font>参数可以帮助你在一些场合下修改standard distribution。我们通过指数分布的随机变量（exponentially distributed RV）的<font color=\"red\">cdf</font>来进一步说明scaling,这个分布的mean是$1/\\lambda$,分布由下述公式得出：\n",
    "\n",
    "$$\n",
    "F\\left(x\\right)=1-exp(-\\lambda x)\n",
    "$$\n",
    "\n",
    "利用上述的缩放规则，使用<font color=\"red\">scale=1./lambda</font>我们可以得到正确的scale"
   ]
  },
  {
   "cell_type": "code",
   "execution_count": 18,
   "id": "0fccac8a",
   "metadata": {},
   "outputs": [
    {
     "data": {
      "text/plain": [
       "3.0"
      ]
     },
     "execution_count": 18,
     "metadata": {},
     "output_type": "execute_result"
    }
   ],
   "source": [
    "from scipy.stats import expon\n",
    "expon.mean(scale=3.)"
   ]
  },
  {
   "cell_type": "markdown",
   "id": "c36ac869",
   "metadata": {},
   "source": [
    "Note\n",
    "\n",
    "使用 shape 参数的分布不能简单使用<font color=\"red\">loc</font>和(或)<font color=\"red\">scale</font>参数来获得想要的分布形式。举一个例子，给定一个长度R的2-D vector 的 distribution 每一个部分都受到独立的$N(0,\\sigma^2)$影响，这个分布服从$rice(R/\\sigma,scale=\\sigma)$分布。\n",
    "\n",
    "Ps : rice()指的是莱斯分布。\n",
    "\n",
    "均匀分布（uniform distribution）也是一个比较常见的分布。"
   ]
  },
  {
   "cell_type": "code",
   "execution_count": 19,
   "id": "78d7f5a5",
   "metadata": {},
   "outputs": [
    {
     "data": {
      "text/plain": [
       "array([0.  , 0.  , 0.25, 0.5 , 0.75, 1.  ])"
      ]
     },
     "execution_count": 19,
     "metadata": {},
     "output_type": "execute_result"
    }
   ],
   "source": [
    "from scipy.stats import uniform\n",
    "uniform.cdf([0, 1, 2, 3, 4, 5], loc=1, scale=4) # 范围是[loc, loc + scale]"
   ]
  },
  {
   "cell_type": "markdown",
   "id": "f2ef8908",
   "metadata": {},
   "source": [
    "最后，我们回到之前曾经遗留下来的问题，<font color=\"red\">norm.rvs(5)</font>的含义，其实像这样调用一个distribution，第一个augument是5，相当于给<font color=\"red\">loc</font>参数赋值。我们来看下面这个例子。"
   ]
  },
  {
   "cell_type": "code",
   "execution_count": 20,
   "id": "636b504d",
   "metadata": {},
   "outputs": [
    {
     "data": {
      "text/plain": [
       "5.008904202156529"
      ]
     },
     "execution_count": 20,
     "metadata": {},
     "output_type": "execute_result"
    }
   ],
   "source": [
    "# 输出500个服从mean=5，var=1正态分布的随机变量，并将这随机变量取平均值\n",
    "np.mean(norm.rvs(5, size=500))"
   ]
  },
  {
   "cell_type": "markdown",
   "id": "a034ce85",
   "metadata": {},
   "source": [
    "最后我们解释一下<font color=\"red\">norm.rvs(5)</font>的输出，它输出了一个mean=5的正态分布的一个sample，因为默认的<font color=\"red\">size=1</font>。\n",
    "\n",
    "我们建议你在调用函数时明确的指出<font color=\"red\">loc</font>和<font color=\"red\">scale</font>参数，使用keyword的方式传入数值而不是通过augument的方式传入value。可以通过使用Freezing a Distribution技术对给定的RV调用超过一个method。可以使重复率最小。\n",
    "\n",
    "## Shape parameter\n",
    "\n",
    "普通的连续型随机变量可以通过<font color=\"red\">loc</font>和<font color=\"red\">scale</font>参数来shift和scale它的shape。但一些分布需要而外的shape parameter。举一个例子，gamma distribution的密度函数：\n",
    "\n",
    "$$\n",
    "\\gamma(x,a)=\\frac{\\lambda{(\\lambda x)}^{a-1}}{\\mathrm{\\Gamma}(a)}e^{-\\lambda x}\n",
    "$$\n",
    "\n",
    "需要一个shape parameter a，注意到设置$\\lambda$的值可以通过将<font color=\"red\">scale</font>的值设置为$1/\\lambda$得到。\n",
    "\n",
    "让我们来看一下gamma distribution的shape parameter的number和name。"
   ]
  },
  {
   "cell_type": "code",
   "execution_count": 21,
   "id": "0857ad97",
   "metadata": {},
   "outputs": [
    {
     "data": {
      "text/plain": [
       "(1, 'a')"
      ]
     },
     "execution_count": 21,
     "metadata": {},
     "output_type": "execute_result"
    }
   ],
   "source": [
    "from scipy.stats import gamma\n",
    "gamma.numargs,gamma.shapes"
   ]
  },
  {
   "cell_type": "markdown",
   "id": "ae2e9241",
   "metadata": {},
   "source": [
    "现在，我们将shape变量得值设置为1，来得到指数分布，这样可以让我们很轻易地比较这样做是否得到了我们期望的结果。"
   ]
  },
  {
   "cell_type": "code",
   "execution_count": 22,
   "id": "99f25167",
   "metadata": {},
   "outputs": [
    {
     "data": {
      "text/plain": [
       "(array(2.), array(4.))"
      ]
     },
     "execution_count": 22,
     "metadata": {},
     "output_type": "execute_result"
    }
   ],
   "source": [
    "gamma(1, scale=2.).stats(moments=\"mv\")"
   ]
  },
  {
   "cell_type": "markdown",
   "id": "af08270d",
   "metadata": {},
   "source": [
    "我们也可以用keyword的方式进行赋值。"
   ]
  },
  {
   "cell_type": "code",
   "execution_count": 23,
   "id": "68cbea18",
   "metadata": {},
   "outputs": [
    {
     "data": {
      "text/plain": [
       "(array(2.), array(4.))"
      ]
     },
     "execution_count": 23,
     "metadata": {},
     "output_type": "execute_result"
    }
   ],
   "source": [
    "gamma(a=1, scale=2.).stats(moments=\"mv\")"
   ]
  },
  {
   "cell_type": "markdown",
   "id": "606b064a",
   "metadata": {},
   "source": [
    "## Freezing a distribution\n",
    "\n",
    "一直传入<font color=\"red\">loc</font>和<font color=\"red\">scale</font>会显得非常的麻烦。freezing RV的概念就是为了解决这个问题"
   ]
  },
  {
   "cell_type": "code",
   "execution_count": 24,
   "id": "b65218c0",
   "metadata": {},
   "outputs": [],
   "source": [
    "rv = gamma(1, scale=2.)"
   ]
  },
  {
   "cell_type": "markdown",
   "id": "94cbe00f",
   "metadata": {},
   "source": [
    "我们使用<font color=\"red\">rv</font>就可以不用再使用scale和其它的shape parameter了，所以这个distribution要么可以将所有的distribution的parameter传入到调用的每个method中，要么可以对于一个distribution的实例来说可以freezing这些参数。"
   ]
  },
  {
   "cell_type": "code",
   "execution_count": 25,
   "id": "5f6777f7",
   "metadata": {},
   "outputs": [
    {
     "data": {
      "text/plain": [
       "(2.0, 2.0)"
      ]
     },
     "execution_count": 25,
     "metadata": {},
     "output_type": "execute_result"
    }
   ],
   "source": [
    "rv.mean(), rv.std()"
   ]
  },
  {
   "cell_type": "markdown",
   "id": "760f6823",
   "metadata": {},
   "source": [
    "我们应该可以得到上面的结果。\n",
    "\n",
    "## Broadcasting\n",
    "\n",
    "最基本的方法<font color=\"red\">pdf</font>或者其它的基本方法都满足numpy的Broadcasting rule。举个例子，我们可以计算不同probability和自由度（degree of freedom 简称d.o.f）的t distribution的上尾临界值（critical value for the upper tail）。"
   ]
  },
  {
   "cell_type": "code",
   "execution_count": 26,
   "id": "2331f62e",
   "metadata": {},
   "outputs": [
    {
     "data": {
      "text/plain": [
       "array([[1.37218364, 1.81246112, 2.76376946],\n",
       "       [1.36343032, 1.79588482, 2.71807918]])"
      ]
     },
     "execution_count": 26,
     "metadata": {},
     "output_type": "execute_result"
    }
   ],
   "source": [
    "# 0.1百分位的值和0.05百分位的值以及0.01百分位的值\n",
    "# 0.1百分位的值或者是几率为0.1时t分布的值->P(X<xa)=a）其中a=0.1，xa表示概率等于0.1时候的x值\n",
    "stats.t.isf([0.1, 0.05, 0.01], [[10], [11]]) "
   ]
  },
  {
   "cell_type": "markdown",
   "id": "cf06fc5e",
   "metadata": {},
   "source": [
    "第一行包含着10自由度的critical value，第二行是11自由度的value，所以这次broadcast相当于执行了两次<font color=\"red\">isf</font>，如下所示。"
   ]
  },
  {
   "cell_type": "code",
   "execution_count": 27,
   "id": "778dced9",
   "metadata": {},
   "outputs": [
    {
     "data": {
      "text/plain": [
       "array([1.37218364, 1.81246112, 2.76376946])"
      ]
     },
     "execution_count": 27,
     "metadata": {},
     "output_type": "execute_result"
    }
   ],
   "source": [
    "stats.t.isf([0.1, 0.05, 0.01], 10)"
   ]
  },
  {
   "cell_type": "code",
   "execution_count": 28,
   "id": "17e48bac",
   "metadata": {},
   "outputs": [
    {
     "data": {
      "text/plain": [
       "array([1.36343032, 1.79588482, 2.71807918])"
      ]
     },
     "execution_count": 28,
     "metadata": {},
     "output_type": "execute_result"
    }
   ],
   "source": [
    "stats.t.isf([0.1, 0.05, 0.01], 11)"
   ]
  },
  {
   "cell_type": "markdown",
   "id": "c35a752e",
   "metadata": {},
   "source": [
    "如果probability数组是 [0.1, 0.05, 0.01]以及自由度数组是 [10, 11, 12], 它们有相同的形状, 然后element-wise matching 就会启用。 我们可以得到  10 d.o.f的 10% tail ,  11 d.o.f 的 5% tail以及12 d.o.f.的 1% tail。"
   ]
  },
  {
   "cell_type": "code",
   "execution_count": 29,
   "id": "fab0daa1",
   "metadata": {},
   "outputs": [
    {
     "data": {
      "text/plain": [
       "array([1.37218364, 1.79588482, 2.68099799])"
      ]
     },
     "execution_count": 29,
     "metadata": {},
     "output_type": "execute_result"
    }
   ],
   "source": [
    "stats.t.isf([0.1, 0.05, 0.01], [10, 11, 12])"
   ]
  },
  {
   "cell_type": "markdown",
   "id": "29d5fd23",
   "metadata": {},
   "source": [
    "## Specific points for discrete distributions\n",
    "\n"
   ]
  },
  {
   "cell_type": "code",
   "execution_count": null,
   "id": "f27078e8",
   "metadata": {},
   "outputs": [],
   "source": []
  }
 ],
 "metadata": {
  "kernelspec": {
   "display_name": "Python 3",
   "language": "python",
   "name": "python3"
  },
  "language_info": {
   "codemirror_mode": {
    "name": "ipython",
    "version": 3
   },
   "file_extension": ".py",
   "mimetype": "text/x-python",
   "name": "python",
   "nbconvert_exporter": "python",
   "pygments_lexer": "ipython3",
   "version": "3.8.8"
  }
 },
 "nbformat": 4,
 "nbformat_minor": 5
}
